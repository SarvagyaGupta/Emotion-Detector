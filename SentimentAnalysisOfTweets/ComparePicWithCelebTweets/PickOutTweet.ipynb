{
 "cells": [
  {
   "cell_type": "code",
   "execution_count": 10,
   "metadata": {},
   "outputs": [],
   "source": [
    "import pandas as pd\n",
    "import numpy as np\n",
    "import sys\n",
    "import math"
   ]
  },
  {
   "cell_type": "code",
   "execution_count": 31,
   "metadata": {},
   "outputs": [],
   "source": [
    "probability = [0.000509, 0.0, 0.262479, 8.3e-05, 7.4e-05, 0.002448, 0.734407]\n",
    "emotion = \"Neutral\""
   ]
  },
  {
   "cell_type": "code",
   "execution_count": 45,
   "metadata": {},
   "outputs": [],
   "source": [
    "data = pd.read_csv(\"FinalCelebrityTweets.csv\")"
   ]
  },
  {
   "cell_type": "code",
   "execution_count": 46,
   "metadata": {},
   "outputs": [],
   "source": [
    "minimum = sys.maxsize"
   ]
  },
  {
   "cell_type": "code",
   "execution_count": 47,
   "metadata": {},
   "outputs": [
    {
     "data": {
      "text/plain": [
       "9223372036854775807"
      ]
     },
     "execution_count": 47,
     "metadata": {},
     "output_type": "execute_result"
    }
   ],
   "source": [
    "minimum"
   ]
  },
  {
   "cell_type": "code",
   "execution_count": 48,
   "metadata": {},
   "outputs": [],
   "source": [
    "def calculateCloseness(x, y):\n",
    "    total = 0\n",
    "    for i in range(len(x)):\n",
    "        total += (x[i] - y[i]) ** 2\n",
    "    total = math.sqrt(total)\n",
    "    return total"
   ]
  },
  {
   "cell_type": "code",
   "execution_count": 49,
   "metadata": {},
   "outputs": [],
   "source": [
    "tweet = ''\n",
    "person = ''\n",
    "pr = []\n",
    "for index_label, row_series in data.iterrows():\n",
    "    temp = [float(x) for x in data.at[index_label, 'probs'][2:-2].split()]\n",
    "    p = calculateCloseness(temp, probability)\n",
    "    if p < minimum:\n",
    "        minimum = p\n",
    "        tweet = data.at[index_label, 'content']\n",
    "        person = data.at[index_label, 'author']\n",
    "        pr = temp"
   ]
  },
  {
   "cell_type": "code",
   "execution_count": 50,
   "metadata": {},
   "outputs": [
    {
     "data": {
      "text/plain": [
       "'#RichKid #ELLEcoverstory\\r\\n hair: yusefhairnyc \\r\\nmakeup: @tompecheuxmu \\r\\nstyled by: @lgoldstein_ltd… http://t.co/Nzl2vlhboc'"
      ]
     },
     "execution_count": 50,
     "metadata": {},
     "output_type": "execute_result"
    }
   ],
   "source": [
    "tweet"
   ]
  },
  {
   "cell_type": "code",
   "execution_count": 51,
   "metadata": {},
   "outputs": [
    {
     "data": {
      "text/plain": [
       "'rihanna'"
      ]
     },
     "execution_count": 51,
     "metadata": {},
     "output_type": "execute_result"
    }
   ],
   "source": [
    "person"
   ]
  },
  {
   "cell_type": "code",
   "execution_count": 52,
   "metadata": {},
   "outputs": [
    {
     "data": {
      "text/plain": [
       "[0.05096369,\n",
       " 0.05606252,\n",
       " 0.03255508,\n",
       " 0.044219,\n",
       " 0.05440854,\n",
       " 0.01007025,\n",
       " 0.7517209]"
      ]
     },
     "execution_count": 52,
     "metadata": {},
     "output_type": "execute_result"
    }
   ],
   "source": [
    "pr"
   ]
  },
  {
   "cell_type": "code",
   "execution_count": null,
   "metadata": {},
   "outputs": [],
   "source": []
  }
 ],
 "metadata": {
  "kernelspec": {
   "display_name": "Python 3",
   "language": "python",
   "name": "python3"
  },
  "language_info": {
   "codemirror_mode": {
    "name": "ipython",
    "version": 3
   },
   "file_extension": ".py",
   "mimetype": "text/x-python",
   "name": "python",
   "nbconvert_exporter": "python",
   "pygments_lexer": "ipython3",
   "version": "3.7.3"
  }
 },
 "nbformat": 4,
 "nbformat_minor": 2
}
